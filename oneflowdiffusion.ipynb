{
 "cells": [
  {
   "cell_type": "code",
   "execution_count": null,
   "metadata": {},
   "outputs": [],
   "source": [
    "import oneflow as torch\n",
    "from diffusers import OneFlowStableDiffusionPipeline\n",
    "\n",
    "pipe = OneFlowStableDiffusionPipeline.from_pretrained(\n",
    "    \"CompVis/stable-diffusion-v1-4\",\n",
    "    use_auth_token=True,\n",
    "    revision=\"fp16\",\n",
    "    torch_dtype=torch.float16,\n",
    ")\n",
    "\n",
    "pipe = pipe.to(\"cuda\")\n",
    "\n",
    "prompt = \"a photo of an astronaut riding a horse on mars\"\n",
    "with torch.autocast(\"cuda\"):\n",
    "    images = pipe(prompt).images\n",
    "    for i, image in enumerate(images):\n",
    "        image.save(f\"{prompt}-of-{i}.png\")"
   ]
  },
  {
   "cell_type": "code",
   "execution_count": null,
   "metadata": {},
   "outputs": [],
   "source": [
    "import oneflow as torch\n",
    "from diffusers import (\n",
    "    OneFlowDPMSolverMultistepScheduler as DPMSolverMultistepScheduler,\n",
    "    OneFlowStableDiffusionPipeline as StableDiffusionPipeline,\n",
    ")\n",
    "\n",
    "model_id = \"CompVis/stable-diffusion-v1-4\"\n",
    "\n",
    "dpm_solver = DPMSolverMultistepScheduler.from_config(model_id, subfolder=\"scheduler\")\n",
    "\n",
    "pipe = StableDiffusionPipeline.from_pretrained(\n",
    "    model_id,\n",
    "    use_auth_token=True,\n",
    "    revision=\"fp16\",\n",
    "    torch_dtype=torch.float16,\n",
    "    scheduler=dpm_solver,\n",
    "    num_inference_steps=20,\n",
    ")\n",
    "\n",
    "pipe = pipe.to(\"cuda\")\n",
    "\n",
    "prompt = \"a photo of an astronaut riding a horse on mars\"\n",
    "with torch.autocast(\"cuda\"):\n",
    "    images = pipe(prompt).images\n",
    "    for i, image in enumerate(images):\n",
    "        image.save(f\"{prompt}-of-{i}.png\")"
   ]
  },
  {
   "cell_type": "code",
   "execution_count": 2,
   "metadata": {},
   "outputs": [
    {
     "data": {
      "application/vnd.jupyter.widget-view+json": {
       "model_id": "9c2cd06fbd23402996a1e0b33173b4b0",
       "version_major": 2,
       "version_minor": 0
      },
      "text/plain": [
       "Fetching 12 files:   0%|          | 0/12 [00:00<?, ?it/s]"
      ]
     },
     "metadata": {},
     "output_type": "display_data"
    },
    {
     "name": "stderr",
     "output_type": "stream",
     "text": [
      "ftfy or spacy is not installed using BERT BasicTokenizer instead of ftfy.\n"
     ]
    },
    {
     "data": {
      "application/vnd.jupyter.widget-view+json": {
       "model_id": "221f96e619b94614879f4836f9281c85",
       "version_major": 2,
       "version_minor": 0
      },
      "text/plain": [
       "  0%|          | 0/50 [00:00<?, ?it/s]"
      ]
     },
     "metadata": {},
     "output_type": "display_data"
    }
   ],
   "source": [
    "import oneflow as torch\n",
    "from diffusers import OneFlowStableDiffusionPipeline as StableDiffusionPipeline, OneFlowEulerDiscreteScheduler as EulerDiscreteScheduler\n",
    "model_id = \"stabilityai/stable-diffusion-2\"\n",
    "\n",
    "# Use the Euler scheduler here instead\n",
    "scheduler = EulerDiscreteScheduler.from_pretrained(model_id, subfolder=\"scheduler\")\n",
    "pipe = StableDiffusionPipeline.from_pretrained(model_id, scheduler=scheduler, revision=\"fp16\", torch_dtype=torch.float16)\n",
    "pipe = pipe.to(\"cuda\")\n",
    "\n",
    "prompt = \"Is it right this is faster?\"\n",
    "image = pipe(prompt, height=768, width=768).images[0]\n",
    "\n",
    "image.save(\"test.png\")"
   ]
  }
 ],
 "metadata": {
  "kernelspec": {
   "display_name": "vision",
   "language": "python",
   "name": "python3"
  },
  "language_info": {
   "codemirror_mode": {
    "name": "ipython",
    "version": 3
   },
   "file_extension": ".py",
   "mimetype": "text/x-python",
   "name": "python",
   "nbconvert_exporter": "python",
   "pygments_lexer": "ipython3",
   "version": "3.8.15"
  },
  "orig_nbformat": 4,
  "vscode": {
   "interpreter": {
    "hash": "c4b15383c36ceb280708626b324178cb848b65110290190446d94ca37942cacd"
   }
  }
 },
 "nbformat": 4,
 "nbformat_minor": 2
}
